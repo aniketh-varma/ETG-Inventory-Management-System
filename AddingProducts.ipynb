{
 "cells": [
  {
   "cell_type": "markdown",
   "metadata": {},
   "source": [
    "## Adding initial products in record.json file"
   ]
  },
  {
   "cell_type": "code",
   "execution_count": 1,
   "metadata": {},
   "outputs": [],
   "source": [
    "products = {\n",
    "    \"1001\": {\"name\": \"Choco Cake\", \"price\": 100, \"quant\": 34, \"brand\": \"Britannia\", \"expiry\": \"1/12/2021\"},\n",
    "    \"1002\": {\"name\": \"Milk Cake\", \"price\": 400, \"quant\": 100, \"brand\": \"Britannia\", \"expiry\": \"1/12/2021\"},\n",
    "    \"1003\": {\"name\": \"Pepsi\", \"price\": 40, \"quant\": 100, \"brand\": \"Pepsi-Co\", \"expiry\": \"23/11/2021\"},\n",
    "    \"1004\": {\"name\": \"Candy\", \"price\": 5, \"quant\": 500, \"brand\": \"Eclairs\", \"expiry\": \"12/02/2022\"},\n",
    "    \"1005\": {\"name\": \"Pen\", \"price\": 20, \"quant\": 100, \"brand\": \"Pilot\", \"expiry\": \"01/12/2023\"},\n",
    "    \"1006\": {\"name\": \"Smartphone\", \"price\": 20000, \"quant\": 10, \"brand\": \"Samsung\", \"expiry\": \"NA\"},\n",
    "    \"1007\": {\"name\": \"Microphone\", \"price\": 1500, \"quant\": 0, \"brand\": \"Sony\", \"expiry\": \"NA\"},\n",
    "    \"1008\": {\"name\": \"Case\", \"price\": 599, \"quant\": 5, \"brand\": \"Octa\", \"expiry\": \"NA\"},\n",
    "    \"1009\": {\"name\": \"Keyboard\", \"price\": 1999, \"quant\": 10, \"brand\": \"Logitech\", \"expiry\": \"NA\"},\n",
    "    \"1010\": {\"name\": \"Dairy Milk Silk\", \"price\":100, \"quant\":50, \"brand\":\"Cadbury\", \"expiry\":\"31/01/2022\"}\n",
    "}"
   ]
  },
  {
   "cell_type": "code",
   "execution_count": 2,
   "metadata": {},
   "outputs": [],
   "source": [
    "import json\n",
    "\n",
    "js = json.dumps(products)\n",
    "\n",
    "fd = open(\"record.json\",\"w\")\n",
    "\n",
    "fd.write(js)\n",
    "\n",
    "fd.close()"
   ]
  },
  {
   "cell_type": "markdown",
   "metadata": {},
   "source": [
    "#### Reading record.json file to check products have been written"
   ]
  },
  {
   "cell_type": "code",
   "execution_count": 3,
   "metadata": {},
   "outputs": [],
   "source": [
    "fd = open(\"record.json\",'r')\n",
    "\n",
    "r = fd.read()\n",
    "\n",
    "records = json.loads(r)\n",
    "\n",
    "fd.close()"
   ]
  },
  {
   "cell_type": "code",
   "execution_count": 4,
   "metadata": {},
   "outputs": [
    {
     "data": {
      "text/plain": [
       "{'1001': {'name': 'Choco Cake',\n",
       "  'price': 100,\n",
       "  'quant': 34,\n",
       "  'brand': 'Britannia',\n",
       "  'expiry': '1/12/2021'},\n",
       " '1002': {'name': 'Milk Cake',\n",
       "  'price': 400,\n",
       "  'quant': 100,\n",
       "  'brand': 'Britannia',\n",
       "  'expiry': '1/12/2021'},\n",
       " '1003': {'name': 'Pepsi',\n",
       "  'price': 40,\n",
       "  'quant': 100,\n",
       "  'brand': 'Pepsi-Co',\n",
       "  'expiry': '23/11/2021'},\n",
       " '1004': {'name': 'Candy',\n",
       "  'price': 5,\n",
       "  'quant': 500,\n",
       "  'brand': 'Eclairs',\n",
       "  'expiry': '12/02/2022'},\n",
       " '1005': {'name': 'Pen',\n",
       "  'price': 20,\n",
       "  'quant': 100,\n",
       "  'brand': 'Pilot',\n",
       "  'expiry': '01/12/2023'},\n",
       " '1006': {'name': 'Smartphone',\n",
       "  'price': 20000,\n",
       "  'quant': 10,\n",
       "  'brand': 'Samsung',\n",
       "  'expiry': 'NA'},\n",
       " '1007': {'name': 'Microphone',\n",
       "  'price': 1500,\n",
       "  'quant': 0,\n",
       "  'brand': 'Sony',\n",
       "  'expiry': 'NA'},\n",
       " '1008': {'name': 'Case',\n",
       "  'price': 599,\n",
       "  'quant': 5,\n",
       "  'brand': 'Octa',\n",
       "  'expiry': 'NA'},\n",
       " '1009': {'name': 'Keyboard',\n",
       "  'price': 1999,\n",
       "  'quant': 10,\n",
       "  'brand': 'Logitech',\n",
       "  'expiry': 'NA'},\n",
       " '1010': {'name': 'Dairy Milk Silk',\n",
       "  'price': 100,\n",
       "  'quant': 50,\n",
       "  'brand': 'Cadbury',\n",
       "  'expiry': '31/01/2022'}}"
      ]
     },
     "execution_count": 4,
     "metadata": {},
     "output_type": "execute_result"
    }
   ],
   "source": [
    "records"
   ]
  },
  {
   "cell_type": "markdown",
   "metadata": {},
   "source": [
    "## Adding new products in record.json file"
   ]
  },
  {
   "cell_type": "code",
   "execution_count": 5,
   "metadata": {},
   "outputs": [
    {
     "name": "stdout",
     "output_type": "stream",
     "text": [
      "Enter name: Chips\n",
      "Enter price: 20\n",
      "Enter quantity: 300\n",
      "Enter brand: Lays\n",
      "Enter expiry: 06/01/2022\n"
     ]
    }
   ],
   "source": [
    "prod_id = str(len(records) + 1001)\n",
    "name = input(\"Enter name: \")\n",
    "price = int(input(\"Enter price: \"))\n",
    "quantity = int(input(\"Enter quantity: \"))\n",
    "brand = input(\"Enter brand: \")\n",
    "expiry = input(\"Enter expiry: \")\n",
    "\n",
    "products[prod_id] = {'name': name, 'price': price, 'quant': quantity, 'brand': brand, 'expiry': expiry}\n",
    "\n",
    "js = json.dumps(products)\n",
    "\n",
    "fd = open(\"record.json\",'w')\n",
    "\n",
    "fd.write(js)\n",
    "\n",
    "fd.close()"
   ]
  },
  {
   "cell_type": "markdown",
   "metadata": {},
   "source": [
    "#### Reading record.json file to check products have been written"
   ]
  },
  {
   "cell_type": "code",
   "execution_count": 9,
   "metadata": {},
   "outputs": [],
   "source": [
    "fd = open(\"record.json\",'r')\n",
    "\n",
    "r = fd.read()\n",
    "\n",
    "records = json.loads(r)\n",
    "\n",
    "fd.close()"
   ]
  },
  {
   "cell_type": "code",
   "execution_count": 11,
   "metadata": {},
   "outputs": [
    {
     "data": {
      "text/plain": [
       "{'1001': {'name': 'Choco Cake',\n",
       "  'price': 100,\n",
       "  'quant': 34,\n",
       "  'brand': 'Britannia',\n",
       "  'expiry': '1/12/2021'},\n",
       " '1002': {'name': 'Milk Cake',\n",
       "  'price': 400,\n",
       "  'quant': 100,\n",
       "  'brand': 'Britannia',\n",
       "  'expiry': '1/12/2021'},\n",
       " '1003': {'name': 'Pepsi',\n",
       "  'price': 40,\n",
       "  'quant': 100,\n",
       "  'brand': 'Pepsi-Co',\n",
       "  'expiry': '23/11/2021'},\n",
       " '1004': {'name': 'Candy',\n",
       "  'price': 5,\n",
       "  'quant': 500,\n",
       "  'brand': 'Eclairs',\n",
       "  'expiry': '12/02/2022'},\n",
       " '1005': {'name': 'Pen',\n",
       "  'price': 20,\n",
       "  'quant': 100,\n",
       "  'brand': 'Pilot',\n",
       "  'expiry': '01/12/2023'},\n",
       " '1006': {'name': 'Smartphone',\n",
       "  'price': 20000,\n",
       "  'quant': 10,\n",
       "  'brand': 'Samsung',\n",
       "  'expiry': 'NA'},\n",
       " '1007': {'name': 'Microphone',\n",
       "  'price': 1500,\n",
       "  'quant': 0,\n",
       "  'brand': 'Sony',\n",
       "  'expiry': 'NA'},\n",
       " '1008': {'name': 'Case',\n",
       "  'price': 599,\n",
       "  'quant': 5,\n",
       "  'brand': 'Octa',\n",
       "  'expiry': 'NA'},\n",
       " '1009': {'name': 'Keyboard',\n",
       "  'price': 1999,\n",
       "  'quant': 10,\n",
       "  'brand': 'Logitech',\n",
       "  'expiry': 'NA'},\n",
       " '1010': {'name': 'Dairy Milk Silk',\n",
       "  'price': 100,\n",
       "  'quant': 50,\n",
       "  'brand': 'Cadbury',\n",
       "  'expiry': '31/01/2022'},\n",
       " '1011': {'name': 'Chips',\n",
       "  'price': 20,\n",
       "  'quant': 300,\n",
       "  'brand': 'Lays',\n",
       "  'expiry': '06/01/2022'},\n",
       " '1012': {'name': 'Talcum Powder',\n",
       "  'price': 199,\n",
       "  'quant': 120,\n",
       "  'brand': 'Nivea',\n",
       "  'expiry': '23/03/2022'},\n",
       " '1013': {'name': 'Face Wash',\n",
       "  'price': 149,\n",
       "  'quant': 150,\n",
       "  'brand': 'Nivea',\n",
       "  'expiry': '03/03/2022'},\n",
       " '1014': {'name': 'Toothbrush',\n",
       "  'price': 80,\n",
       "  'quant': 50,\n",
       "  'brand': 'Oral-B',\n",
       "  'expiry': 'NA'},\n",
       " '1015': {'name': 'Toothpaste',\n",
       "  'price': 100,\n",
       "  'quant': 200,\n",
       "  'brand': 'Colgate',\n",
       "  'expiry': '15/09/2022'},\n",
       " '1016': {'name': 'Choco pie',\n",
       "  'price': 40,\n",
       "  'quant': 100,\n",
       "  'brand': 'Lotte',\n",
       "  'expiry': '23/12/2021'},\n",
       " '1017': {'name': 'Biscuit',\n",
       "  'price': 20,\n",
       "  'quant': 500,\n",
       "  'brand': 'Oreo',\n",
       "  'expiry': '12/12/2021'},\n",
       " '1018': {'name': 'Nachos',\n",
       "  'price': 60,\n",
       "  'quant': 80,\n",
       "  'brand': 'Doritos',\n",
       "  'expiry': '25/12/2021'},\n",
       " '1019': {'name': 'Mouse',\n",
       "  'price': 200,\n",
       "  'quant': 10,\n",
       "  'brand': 'Samsung',\n",
       "  'expiry': 'NA'},\n",
       " '1020': {'name': 'Laptop',\n",
       "  'price': 60000,\n",
       "  'quant': 5,\n",
       "  'brand': 'HP',\n",
       "  'expiry': 'NA'},\n",
       " '1021': {'name': 'Tissue',\n",
       "  'price': 199,\n",
       "  'quant': 10,\n",
       "  'brand': 'Premier',\n",
       "  'expiry': 'NA'},\n",
       " '1022': {'name': 'Water bottle',\n",
       "  'price': 20,\n",
       "  'quant': 800,\n",
       "  'brand': 'Bisleri',\n",
       "  'expiry': '01/03/2022'},\n",
       " '1023': {'name': 'Choco Powder',\n",
       "  'price': 300,\n",
       "  'quant': 50,\n",
       "  'brand': 'Cadbury',\n",
       "  'expiry': '06/01/2022'},\n",
       " '1024': {'name': 'Tape',\n",
       "  'price': 30,\n",
       "  'quant': 300,\n",
       "  'brand': 'Cello',\n",
       "  'expiry': 'NA'},\n",
       " '1025': {'name': 'Glue',\n",
       "  'price': 50,\n",
       "  'quant': 120,\n",
       "  'brand': 'Fevicol',\n",
       "  'expiry': '23/05/2022'},\n",
       " '1026': {'name': 'Chewing gum',\n",
       "  'price': 10,\n",
       "  'quant': 200,\n",
       "  'brand': 'Orbit',\n",
       "  'expiry': '01/03/2022'},\n",
       " '1027': {'name': 'Oats',\n",
       "  'price': 20,\n",
       "  'quant': 100,\n",
       "  'brand': 'Quaker',\n",
       "  'expiry': '01/03/2022'},\n",
       " '1028': {'name': 'Chocolate',\n",
       "  'price': 60,\n",
       "  'quant': 250,\n",
       "  'brand': 'Parle',\n",
       "  'expiry': '01/01/2022'},\n",
       " '1029': {'name': 'Speaker',\n",
       "  'price': 400,\n",
       "  'quant': 20,\n",
       "  'brand': 'JBL',\n",
       "  'expiry': 'NA'},\n",
       " '1030': {'name': 'Hair Oil',\n",
       "  'price': 99,\n",
       "  'quant': 200,\n",
       "  'brand': 'Dabur',\n",
       "  'expiry': '01/04/2022'}}"
      ]
     },
     "execution_count": 11,
     "metadata": {},
     "output_type": "execute_result"
    }
   ],
   "source": [
    "records"
   ]
  }
 ],
 "metadata": {
  "kernelspec": {
   "display_name": "Python 3",
   "language": "python",
   "name": "python3"
  },
  "language_info": {
   "codemirror_mode": {
    "name": "ipython",
    "version": 3
   },
   "file_extension": ".py",
   "mimetype": "text/x-python",
   "name": "python",
   "nbconvert_exporter": "python",
   "pygments_lexer": "ipython3",
   "version": "3.7.6"
  }
 },
 "nbformat": 4,
 "nbformat_minor": 4
}
